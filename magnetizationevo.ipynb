{
 "cells": [
  {
   "cell_type": "code",
   "execution_count": null,
   "id": "c7f27b25-b056-4292-ae23-ef8128b49702",
   "metadata": {},
   "outputs": [],
   "source": [
    "import numpy as np\n",
    "import matplotlib.pyplot as plt\n",
    "import tqdm\n",
    "from matplotlib.animation import FuncAnimation, PillowWriter"
   ]
  },
  {
   "cell_type": "code",
   "execution_count": null,
   "id": "c88bb94f-ee95-4a1e-afed-8d072ebc18e2",
   "metadata": {},
   "outputs": [],
   "source": [
    "# Define parameters (set T_A to any desired quantity, ideally lower than T_C)\n",
    "N = 100         # Lattice size (NxN grid)\n",
    "J = 1          # Interaction strength\n",
    "k_B = 1        # Boltzmann constant\n",
    "STEPS = 500_000  # Total MCMC steps\n",
    "BURNIN = 50_000  # Burn-in period\n",
    "T_A = 2        # Temperature"
   ]
  },
  {
   "cell_type": "code",
   "execution_count": null,
   "id": "73cda440-e374-48b6-9c4b-5dfabe4f9be4",
   "metadata": {},
   "outputs": [],
   "source": [
    "# Define the range of B values (forward and reverse sweep)\n",
    "B_vals = np.linspace(-0.4, 0.4, 24)\n",
    "B_vals = np.concatenate([B_vals, B_vals[::-1]])  # Sweep B forward & back"
   ]
  },
  {
   "cell_type": "code",
   "execution_count": null,
   "id": "af4c90f7-ebd6-4e6a-b484-59656dcf7185",
   "metadata": {},
   "outputs": [],
   "source": [
    "# Initialize lattice\n",
    "def initialize_lattice(N, mode=\"ordered\"):\n",
    "    if mode == \"ordered\":\n",
    "        return np.ones((N, N))\n",
    "    elif mode == \"random\":\n",
    "        return np.random.choice([-1, 1], size=(N, N))"
   ]
  },
  {
   "cell_type": "code",
   "execution_count": null,
   "id": "0b22d0a3-b8cc-4b66-8baf-a1aeeee2e50a",
   "metadata": {},
   "outputs": [],
   "source": [
    "# Metropolis Algorithm\n",
    "def metropolis(lattice, T, B, steps):\n",
    "    N = lattice.shape[0]\n",
    "    magnetization = []\n",
    "    num_accept = 0\n",
    "\n",
    "    for _ in tqdm.tqdm(range(steps), leave=False):\n",
    "        i, j = np.random.randint(N), np.random.randint(N)  # Pick random spin\n",
    "        delta_E = 0\n",
    "\n",
    "        for k, l in [(-1, 0), (1, 0), (0, 1), (0, -1)]:  # Nearest neighbors\n",
    "            i_neigh = (i + k) % N\n",
    "            j_neigh = (j + l) % N\n",
    "            delta_E += -J * -2 * lattice[i, j] * lattice[i_neigh, j_neigh] - B * lattice[i, j]\n",
    "\n",
    "        if delta_E <= 0 or np.random.random() < np.exp(-delta_E / (k_B * T)):\n",
    "            lattice[i, j] *= -1  # Flip spin\n",
    "            num_accept += 1\n",
    "\n",
    "        magnetization.append(np.mean(lattice))\n",
    "\n",
    "    return magnetization\n"
   ]
  },
  {
   "cell_type": "code",
   "execution_count": null,
   "id": "bc6c3900-bd2f-4e47-855a-b513e657b297",
   "metadata": {},
   "outputs": [],
   "source": [
    "# Initialize lattice\n",
    "lattice_ordered = initialize_lattice(N, mode=\"random\")\n",
    "\n",
    "# Run simulation for each B value and store magnetization curves\n",
    "magnetization_data = []\n",
    "for B_field in B_vals:\n",
    "    m_values = metropolis(lattice_ordered, T_A, B_field, STEPS)\n",
    "    magnetization_data.append(m_values)"
   ]
  },
  {
   "cell_type": "code",
   "execution_count": null,
   "id": "def9dbe4-96a4-491e-adb6-b4f35deedcde",
   "metadata": {},
   "outputs": [],
   "source": [
    "# Create figure for animation\n",
    "fig, ax = plt.subplots(figsize=(8, 6))\n",
    "line, = ax.plot([], [], lw=2)\n",
    "ax.axvline(BURNIN, color=\"black\", linestyle=\"--\", label=\"Burn-in threshold\")\n",
    "ax.set_xlabel(\"MCMC Steps\")\n",
    "ax.set_ylabel(\"Net Magnetization\")\n",
    "ax.set_ylim(-1.1, 1.1)\n",
    "ax.set_xlim(0, STEPS)\n",
    "ax.legend()\n",
    "title = ax.set_title(f\"Magnetization vs. Steps (B = {B_vals[0]:.2f})\")"
   ]
  },
  {
   "cell_type": "code",
   "execution_count": null,
   "id": "fdd47482-b9a3-4882-ba9e-38f79d998f70",
   "metadata": {},
   "outputs": [],
   "source": [
    "# Animation update function\n",
    "def update(frame):\n",
    "    B_field = B_vals[frame]\n",
    "    line.set_data(range(STEPS), magnetization_data[frame])\n",
    "    title.set_text(f\"Magnetization vs. Steps (B = {B_field:.2f})\")\n",
    "    return line, title"
   ]
  },
  {
   "cell_type": "code",
   "execution_count": null,
   "id": "4e04f259-2aa4-4d5d-b80e-7898caa94948",
   "metadata": {},
   "outputs": [],
   "source": [
    "# Create animation\n",
    "ani = FuncAnimation(fig, update, frames=len(B_vals), interval=200)\n",
    "\n",
    "# Save as GIF using Pillow\n",
    "ani.save(\"magnetization_vs_B.gif\", writer=PillowWriter(fps=5))\n",
    "\n",
    "print(\"Animation saved as magnetization_vs_B.gif\")\n",
    "plt.show()"
   ]
  }
 ],
 "metadata": {
  "kernelspec": {
   "display_name": "Python 3 (ipykernel)",
   "language": "python",
   "name": "python3"
  },
  "language_info": {
   "codemirror_mode": {
    "name": "ipython",
    "version": 3
   },
   "file_extension": ".py",
   "mimetype": "text/x-python",
   "name": "python",
   "nbconvert_exporter": "python",
   "pygments_lexer": "ipython3",
   "version": "3.11.9"
  }
 },
 "nbformat": 4,
 "nbformat_minor": 5
}
