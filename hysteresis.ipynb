{
 "cells": [
  {
   "cell_type": "code",
   "execution_count": 1,
   "id": "654d51c7-4382-40fe-95e8-6de106e0fce3",
   "metadata": {},
   "outputs": [],
   "source": [
    "import numpy as np\n",
    "import matplotlib.pyplot as plt\n",
    "import numba\n",
    "import tqdm"
   ]
  },
  {
   "cell_type": "code",
   "execution_count": 2,
   "id": "61639c80-4178-463a-8c49-b2135224b050",
   "metadata": {},
   "outputs": [],
   "source": [
    "# Parameters\n",
    "N = 100\n",
    "J = 1\n",
    "k_B = 1\n",
    "STEPS = 500000\n",
    "BURNIN = 50000  # Steps per field value\n",
    "T = 2.0  # Temperature\n",
    "B_vals = np.concatenate([np.linspace(-1, 1, 50), np.linspace(1, -1, 50)])  # Sweep up and down"
   ]
  },
  {
   "cell_type": "code",
   "execution_count": 3,
   "id": "3493def2-f85d-445e-9737-4cacbb1d7f0e",
   "metadata": {},
   "outputs": [],
   "source": [
    "# Initialize lattice\n",
    "def initialize_lattice(N, mode=\"ordered\"):\n",
    "    if mode == \"ordered\":\n",
    "        return np.ones((N, N))\n",
    "    elif mode == \"random\":\n",
    "        return np.random.choice([-1, 1], size=(N, N))"
   ]
  },
  {
   "cell_type": "code",
   "execution_count": 4,
   "id": "a3f1983f-abec-4120-bf54-074ad36550d3",
   "metadata": {},
   "outputs": [],
   "source": [
    "@numba.jit(nopython=True)\n",
    "def metropolis(lattice, T, B, steps, J, k_B, burnin):\n",
    "    N = lattice.shape[0]\n",
    "    magnetization = 0.0\n",
    "    num_accept = 0\n",
    "    \n",
    "    for step in range(steps):\n",
    "        i, j = np.random.randint(N), np.random.randint(N)\n",
    "        delta_E = 0\n",
    "\n",
    "        for k, l in [(-1, 0), (1, 0), (0, 1), (0, -1)]:\n",
    "            i_neigh = (i + k) % N\n",
    "            j_neigh = (j + l) % N\n",
    "            delta_E += -J * -2 * lattice[i, j] * lattice[i_neigh, j_neigh] - B * lattice[i, j]\n",
    "\n",
    "        if delta_E <= 0 or np.random.random() < np.exp(-delta_E / (k_B * T)):\n",
    "            lattice[i, j] *= -1\n",
    "            num_accept += 1\n",
    "\n",
    "        magnetization += np.mean(lattice)\n",
    "\n",
    "    return magnetization / (steps - burnin)"
   ]
  },
  {
   "cell_type": "code",
   "execution_count": null,
   "id": "b6ca014a-a440-43f5-a6e3-df6cea869b97",
   "metadata": {},
   "outputs": [
    {
     "name": "stderr",
     "output_type": "stream",
     "text": [
      " 53%|█████▎    | 53/100 [04:26<03:55,  5.02s/it]"
     ]
    }
   ],
   "source": [
    "# Run simulation\n",
    "lattice = initialize_lattice(N, mode=\"ordered\")\n",
    "M_vals = np.zeros(len(B_vals))\n",
    "\n",
    "for i, B in tqdm.tqdm(enumerate(B_vals), total=len(B_vals)):\n",
    "    M_vals[i] = metropolis(lattice, T, B, STEPS, J, k_B, BURNIN)\n",
    "\n",
    "# Plot hysteresis\n",
    "plt.figure(figsize=(8, 6))\n",
    "plt.plot(B_vals, M_vals, marker=\"o\", linestyle=\"-\")\n",
    "plt.xlabel(\"Magnetic Field (B)\")\n",
    "plt.ylabel(\"Magnetization (M)\")\n",
    "plt.title(\"Hysteresis Loop in the Ising Model\")\n",
    "plt.grid()\n",
    "plt.show()"
   ]
  }
 ],
 "metadata": {
  "kernelspec": {
   "display_name": "Python 3 (ipykernel)",
   "language": "python",
   "name": "python3"
  },
  "language_info": {
   "codemirror_mode": {
    "name": "ipython",
    "version": 3
   },
   "file_extension": ".py",
   "mimetype": "text/x-python",
   "name": "python",
   "nbconvert_exporter": "python",
   "pygments_lexer": "ipython3",
   "version": "3.11.9"
  }
 },
 "nbformat": 4,
 "nbformat_minor": 5
}
